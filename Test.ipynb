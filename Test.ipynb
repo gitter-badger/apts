{
 "cells": [
  {
   "cell_type": "code",
   "execution_count": 1,
   "metadata": {},
   "outputs": [],
   "source": [
    "import apts.equipment as eq\n",
    "import pandas as pd\n",
    "\n",
    "%matplotlib inline  "
   ]
  },
  {
   "cell_type": "code",
   "execution_count": 2,
   "metadata": {},
   "outputs": [
    {
     "data": {
      "text/plain": [
       "<matplotlib.axes._subplots.AxesSubplot at 0x7fa3d96c46d8>"
      ]
     },
     "execution_count": 2,
     "metadata": {},
     "output_type": "execute_result"
    },
    {
     "data": {
      "image/png": "[encoded data removed]",
      "text/plain": [
       "<matplotlib.figure.Figure at 0x7fa3d96b2c18>"
      ]
     },
     "metadata": {},
     "output_type": "display_data"
    }
   ],
   "source": [
    "e = eq.Equipment()\n",
    "\n",
    "e.register_telescope(eq.Telescope(750, \"SW150/750\"))\n",
    "e.register_ocular(eq.Ocular(25, \"SW\"))\n",
    "e.register_ocular(eq.Ocular(10, \"SW\"))\n",
    "e.register_barlow(eq.Barlow(2, \"SW\"))\n",
    "\n",
    "zooms = pd.Series(e.get_possiable_zooms())\n",
    "\n",
    "zooms.plot(kind='bar')"
   ]
  },
  {
   "cell_type": "code",
   "execution_count": 3,
   "metadata": {},
   "outputs": [
    {
     "data": {
      "image/svg+xml": [
       "<?xml version=\"1.0\" encoding=\"UTF-8\"?>\n",
       "<svg xmlns=\"http://www.w3.org/2000/svg\" xmlns:xlink=\"http://www.w3.org/1999/xlink\" width=\"600pt\" height=\"600pt\" viewBox=\"0 0 600 600\" version=\"1.1\">\n",
       "<defs>\n",
       "<g>\n",
       "<symbol overflow=\"visible\" id=\"glyph0-0\">\n",
       "<path style=\"stroke:none;\" d=\"M 0.703125 2.46875 L 0.703125 -9.875 L 7.703125 -9.875 L 7.703125 2.46875 Z M 1.484375 1.703125 L 6.921875 1.703125 L 6.921875 -9.078125 L 1.484375 -9.078125 Z M 1.484375 1.703125 \"/>\n",
       "</symbol>\n",
       "<symbol overflow=\"visible\" id=\"glyph0-1\">\n",
       "<path style=\"stroke:none;\" d=\"M 7.5 -9.875 L 7.5 -8.53125 C 6.96875 -8.78125 6.46875 -8.960938 6 -9.078125 C 5.539062 -9.203125 5.09375 -9.265625 4.65625 -9.265625 C 3.90625 -9.265625 3.328125 -9.117188 2.921875 -8.828125 C 2.515625 -8.535156 2.3125 -8.125 2.3125 -7.59375 C 2.3125 -7.132812 2.445312 -6.789062 2.71875 -6.5625 C 2.988281 -6.332031 3.503906 -6.148438 4.265625 -6.015625 L 5.09375 -5.84375 C 6.125 -5.644531 6.882812 -5.296875 7.375 -4.796875 C 7.863281 -4.304688 8.109375 -3.644531 8.109375 -2.8125 C 8.109375 -1.820312 7.773438 -1.070312 7.109375 -0.5625 C 6.453125 -0.0507812 5.484375 0.203125 4.203125 0.203125 C 3.710938 0.203125 3.195312 0.144531 2.65625 0.03125 C 2.113281 -0.0703125 1.550781 -0.234375 0.96875 -0.453125 L 0.96875 -1.875 C 1.53125 -1.5625 2.078125 -1.320312 2.609375 -1.15625 C 3.148438 -1 3.679688 -0.921875 4.203125 -0.921875 C 4.984375 -0.921875 5.585938 -1.078125 6.015625 -1.390625 C 6.453125 -1.703125 6.671875 -2.144531 6.671875 -2.71875 C 6.671875 -3.21875 6.515625 -3.609375 6.203125 -3.890625 C 5.898438 -4.171875 5.394531 -4.382812 4.6875 -4.53125 L 3.84375 -4.6875 C 2.8125 -4.894531 2.066406 -5.21875 1.609375 -5.65625 C 1.148438 -6.09375 0.921875 -6.703125 0.921875 -7.484375 C 0.921875 -8.378906 1.238281 -9.085938 1.875 -9.609375 C 2.507812 -10.128906 3.382812 -10.390625 4.5 -10.390625 C 4.976562 -10.390625 5.46875 -10.34375 5.96875 -10.25 C 6.46875 -10.164062 6.976562 -10.039062 7.5 -9.875 Z M 7.5 -9.875 \"/>\n",
       "</symbol>\n",
       "<symbol overflow=\"visible\" id=\"glyph0-2\">\n",
       "<path style=\"stroke:none;\" d=\"M 0.46875 -10.203125 L 1.859375 -10.203125 L 4 -1.578125 L 6.140625 -10.203125 L 7.703125 -10.203125 L 9.84375 -1.578125 L 11.984375 -10.203125 L 13.390625 -10.203125 L 10.828125 0 L 9.078125 0 L 6.9375 -8.859375 L 4.765625 0 L 3.015625 0 Z M 0.46875 -10.203125 \"/>\n",
       "</symbol>\n",
       "<symbol overflow=\"visible\" id=\"glyph0-3\">\n",
       "<path style=\"stroke:none;\" d=\"M 1.734375 -1.15625 L 4 -1.15625 L 4 -8.953125 L 1.53125 -8.453125 L 1.53125 -9.71875 L 3.984375 -10.203125 L 5.359375 -10.203125 L 5.359375 -1.15625 L 7.609375 -1.15625 L 7.609375 0 L 1.734375 0 Z M 1.734375 -1.15625 \"/>\n",
       "</symbol>\n",
       "<symbol overflow=\"visible\" id=\"glyph0-4\">\n",
       "<path style=\"stroke:none;\" d=\"M 1.515625 -10.203125 L 6.9375 -10.203125 L 6.9375 -9.046875 L 2.78125 -9.046875 L 2.78125 -6.546875 C 2.976562 -6.609375 3.175781 -6.65625 3.375 -6.6875 C 3.570312 -6.726562 3.773438 -6.75 3.984375 -6.75 C 5.117188 -6.75 6.019531 -6.4375 6.6875 -5.8125 C 7.351562 -5.1875 7.6875 -4.34375 7.6875 -3.28125 C 7.6875 -2.175781 7.34375 -1.316406 6.65625 -0.703125 C 5.976562 -0.0976562 5.015625 0.203125 3.765625 0.203125 C 3.335938 0.203125 2.898438 0.164062 2.453125 0.09375 C 2.015625 0.0195312 1.554688 -0.0859375 1.078125 -0.234375 L 1.078125 -1.625 C 1.492188 -1.40625 1.921875 -1.238281 2.359375 -1.125 C 2.796875 -1.019531 3.253906 -0.96875 3.734375 -0.96875 C 4.523438 -0.96875 5.148438 -1.171875 5.609375 -1.578125 C 6.066406 -1.992188 6.296875 -2.5625 6.296875 -3.28125 C 6.296875 -3.988281 6.066406 -4.546875 5.609375 -4.953125 C 5.148438 -5.367188 4.523438 -5.578125 3.734375 -5.578125 C 3.367188 -5.578125 3 -5.535156 2.625 -5.453125 C 2.257812 -5.378906 1.890625 -5.253906 1.515625 -5.078125 Z M 1.515625 -10.203125 \"/>\n",
       "</symbol>\n",
       "<symbol overflow=\"visible\" id=\"glyph0-5\">\n",
       "<path style=\"stroke:none;\" d=\"M 4.453125 -9.296875 C 3.742188 -9.296875 3.207031 -8.945312 2.84375 -8.25 C 2.488281 -7.550781 2.3125 -6.5 2.3125 -5.09375 C 2.3125 -3.695312 2.488281 -2.644531 2.84375 -1.9375 C 3.207031 -1.238281 3.742188 -0.890625 4.453125 -0.890625 C 5.171875 -0.890625 5.707031 -1.238281 6.0625 -1.9375 C 6.414062 -2.644531 6.59375 -3.695312 6.59375 -5.09375 C 6.59375 -6.5 6.414062 -7.550781 6.0625 -8.25 C 5.707031 -8.945312 5.171875 -9.296875 4.453125 -9.296875 Z M 4.453125 -10.390625 C 5.597656 -10.390625 6.472656 -9.9375 7.078125 -9.03125 C 7.679688 -8.125 7.984375 -6.8125 7.984375 -5.09375 C 7.984375 -3.375 7.679688 -2.0625 7.078125 -1.15625 C 6.472656 -0.25 5.597656 0.203125 4.453125 0.203125 C 3.304688 0.203125 2.429688 -0.25 1.828125 -1.15625 C 1.222656 -2.0625 0.921875 -3.375 0.921875 -5.09375 C 0.921875 -6.8125 1.222656 -8.125 1.828125 -9.03125 C 2.429688 -9.9375 3.304688 -10.390625 4.453125 -10.390625 Z M 4.453125 -10.390625 \"/>\n",
       "</symbol>\n",
       "<symbol overflow=\"visible\" id=\"glyph0-6\">\n",
       "<path style=\"stroke:none;\" d=\"M 3.5625 -10.203125 L 4.71875 -10.203125 L 1.15625 1.296875 L 0 1.296875 Z M 3.5625 -10.203125 \"/>\n",
       "</symbol>\n",
       "<symbol overflow=\"visible\" id=\"glyph0-7\">\n",
       "<path style=\"stroke:none;\" d=\"M 1.15625 -10.203125 L 7.71875 -10.203125 L 7.71875 -9.625 L 4 0 L 2.5625 0 L 6.046875 -9.046875 L 1.15625 -9.046875 Z M 1.15625 -10.203125 \"/>\n",
       "</symbol>\n",
       "<symbol overflow=\"visible\" id=\"glyph0-8\">\n",
       "<path style=\"stroke:none;\" d=\"M 1.640625 -1.734375 L 3.078125 -1.734375 L 3.078125 -0.5625 L 1.96875 1.625 L 1.078125 1.625 L 1.640625 -0.5625 Z M 1.640625 -1.734375 \"/>\n",
       "</symbol>\n",
       "<symbol overflow=\"visible\" id=\"glyph0-9\">\n",
       "<path style=\"stroke:none;\" d=\"\"/>\n",
       "</symbol>\n",
       "<symbol overflow=\"visible\" id=\"glyph0-10\">\n",
       "<path style=\"stroke:none;\" d=\"M 5.203125 -10.640625 L 5.203125 -9.59375 L 4 -9.59375 C 3.539062 -9.59375 3.222656 -9.5 3.046875 -9.3125 C 2.878906 -9.132812 2.796875 -8.804688 2.796875 -8.328125 L 2.796875 -7.65625 L 4.859375 -7.65625 L 4.859375 -6.671875 L 2.796875 -6.671875 L 2.796875 0 L 1.53125 0 L 1.53125 -6.671875 L 0.328125 -6.671875 L 0.328125 -7.65625 L 1.53125 -7.65625 L 1.53125 -8.1875 C 1.53125 -9.039062 1.726562 -9.660156 2.125 -10.046875 C 2.519531 -10.441406 3.144531 -10.640625 4 -10.640625 Z M 5.203125 -10.640625 \"/>\n",
       "</symbol>\n",
       "<symbol overflow=\"visible\" id=\"glyph0-11\">\n",
       "<path style=\"stroke:none;\" d=\"M 1.484375 -6.359375 L 10.25 -6.359375 L 10.25 -5.203125 L 1.484375 -5.203125 Z M 1.484375 -3.5625 L 10.25 -3.5625 L 10.25 -2.40625 L 1.484375 -2.40625 Z M 1.484375 -3.5625 \"/>\n",
       "</symbol>\n",
       "<symbol overflow=\"visible\" id=\"glyph0-12\">\n",
       "<path style=\"stroke:none;\" d=\"M 2.6875 -1.15625 L 7.5 -1.15625 L 7.5 0 L 1.03125 0 L 1.03125 -1.15625 C 1.550781 -1.695312 2.265625 -2.425781 3.171875 -3.34375 C 4.078125 -4.257812 4.644531 -4.847656 4.875 -5.109375 C 5.3125 -5.609375 5.617188 -6.03125 5.796875 -6.375 C 5.972656 -6.71875 6.0625 -7.054688 6.0625 -7.390625 C 6.0625 -7.929688 5.867188 -8.375 5.484375 -8.71875 C 5.109375 -9.0625 4.613281 -9.234375 4 -9.234375 C 3.570312 -9.234375 3.117188 -9.15625 2.640625 -9 C 2.160156 -8.851562 1.644531 -8.625 1.09375 -8.3125 L 1.09375 -9.71875 C 1.644531 -9.9375 2.160156 -10.101562 2.640625 -10.21875 C 3.128906 -10.332031 3.578125 -10.390625 3.984375 -10.390625 C 5.035156 -10.390625 5.875 -10.125 6.5 -9.59375 C 7.132812 -9.070312 7.453125 -8.367188 7.453125 -7.484375 C 7.453125 -7.054688 7.375 -6.65625 7.21875 -6.28125 C 7.0625 -5.90625 6.773438 -5.460938 6.359375 -4.953125 C 6.242188 -4.828125 5.878906 -4.445312 5.265625 -3.8125 C 4.660156 -3.175781 3.800781 -2.289062 2.6875 -1.15625 Z M 2.6875 -1.15625 \"/>\n",
       "</symbol>\n",
       "<symbol overflow=\"visible\" id=\"glyph0-13\">\n",
       "<path style=\"stroke:none;\" d=\"M 7.6875 -7.65625 L 4.921875 -3.9375 L 7.828125 0 L 6.34375 0 L 4.109375 -3.015625 L 1.890625 0 L 0.40625 0 L 3.375 -4 L 0.65625 -7.65625 L 2.140625 -7.65625 L 4.171875 -4.921875 L 6.203125 -7.65625 Z M 7.6875 -7.65625 \"/>\n",
       "</symbol>\n",
       "</g>\n",
       "</defs>\n",
       "<g id=\"surface2\">\n",
       "<rect x=\"0\" y=\"0\" width=\"600\" height=\"600\" style=\"fill:rgb(100%,100%,100%);fill-opacity:1;stroke:none;\"/>\n",
       "<path style=\"fill:none;stroke-width:1;stroke-linecap:butt;stroke-linejoin:miter;stroke:rgb(26.666667%,26.666667%,26.666667%);stroke-opacity:1;stroke-miterlimit:10;\" d=\"M 289.648438 580 L 364.242188 490.050781 \"/>\n",
       "<path style=\" stroke:none;fill-rule:nonzero;fill:rgb(26.666667%,26.666667%,26.666667%);fill-opacity:1;\" d=\"M 373.347656 479.070312 L 367.808594 493.011719 L 360.675781 487.09375 L 373.347656 479.070312 \"/>\n",
       "<path style=\"fill:none;stroke-width:1;stroke-linecap:butt;stroke-linejoin:miter;stroke:rgb(26.666667%,26.666667%,26.666667%);stroke-opacity:1;stroke-miterlimit:10;\" d=\"M 379.730469 471.371094 L 393.535156 312.203125 \"/>\n",
       "<path style=\" stroke:none;fill-rule:nonzero;fill:rgb(26.666667%,26.666667%,26.666667%);fill-opacity:1;\" d=\"M 394.765625 297.988281 L 398.152344 312.601562 L 388.917969 311.800781 L 394.765625 297.988281 \"/>\n",
       "<path style=\"fill:none;stroke-width:1;stroke-linecap:butt;stroke-linejoin:miter;stroke:rgb(26.666667%,26.666667%,26.666667%);stroke-opacity:1;stroke-miterlimit:10;\" d=\"M 79.8125 268.324219 L 29.628906 152.214844 \"/>\n",
       "<path style=\" stroke:none;fill-rule:nonzero;fill:rgb(26.666667%,26.666667%,26.666667%);fill-opacity:1;\" d=\"M 23.96875 139.121094 L 33.882812 150.375 L 25.371094 154.054688 L 23.96875 139.121094 \"/>\n",
       "<path style=\"fill:none;stroke-width:1;stroke-linecap:butt;stroke-linejoin:miter;stroke:rgb(26.666667%,26.666667%,26.666667%);stroke-opacity:1;stroke-miterlimit:10;\" d=\"M 261.226562 237.792969 L 103.742188 264.296875 \"/>\n",
       "<path style=\" stroke:none;fill-rule:nonzero;fill:rgb(26.666667%,26.666667%,26.666667%);fill-opacity:1;\" d=\"M 89.675781 266.664062 L 102.972656 259.726562 L 104.511719 268.867188 L 89.675781 266.664062 \"/>\n",
       "<path style=\"fill:none;stroke-width:1;stroke-linecap:butt;stroke-linejoin:miter;stroke:rgb(26.666667%,26.666667%,26.666667%);stroke-opacity:1;stroke-miterlimit:10;\" d=\"M 135.453125 20 L 37.574219 113.207031 \"/>\n",
       "<path style=\" stroke:none;fill-rule:nonzero;fill:rgb(26.666667%,26.666667%,26.666667%);fill-opacity:1;\" d=\"M 27.242188 123.042969 L 34.375 109.847656 L 40.769531 116.5625 L 27.242188 123.042969 \"/>\n",
       "<path style=\"fill:none;stroke-width:1;stroke-linecap:butt;stroke-linejoin:miter;stroke:rgb(26.666667%,26.666667%,26.666667%);stroke-opacity:1;stroke-miterlimit:10;\" d=\"M 296.175781 90.980469 L 157.648438 29.804688 \"/>\n",
       "<path style=\" stroke:none;fill-rule:nonzero;fill:rgb(26.666667%,26.666667%,26.666667%);fill-opacity:1;\" d=\"M 144.601562 24.039062 L 159.523438 25.5625 L 155.777344 34.042969 L 144.601562 24.039062 \"/>\n",
       "<path style=\"fill:none;stroke-width:1;stroke-linecap:butt;stroke-linejoin:miter;stroke:rgb(26.666667%,26.666667%,26.666667%);stroke-opacity:1;stroke-miterlimit:10;\" d=\"M 580 112.777344 L 441.59375 102.417969 \"/>\n",
       "<path style=\" stroke:none;fill-rule:nonzero;fill:rgb(26.666667%,26.666667%,26.666667%);fill-opacity:1;\" d=\"M 427.371094 101.351562 L 441.941406 97.796875 L 441.25 107.039062 L 427.371094 101.351562 \"/>\n",
       "<path style=\"fill:none;stroke-width:1;stroke-linecap:butt;stroke-linejoin:miter;stroke:rgb(26.666667%,26.666667%,26.666667%);stroke-opacity:1;stroke-miterlimit:10;\" d=\"M 571.976562 262.425781 L 578.699219 137.007812 \"/>\n",
       "<path style=\" stroke:none;fill-rule:nonzero;fill:rgb(26.666667%,26.666667%,26.666667%);fill-opacity:1;\" d=\"M 579.464844 122.761719 L 583.328125 137.257812 L 574.070312 136.761719 L 579.464844 122.761719 \"/>\n",
       "<path style=\"fill:none;stroke-width:1;stroke-linecap:butt;stroke-linejoin:miter;stroke:rgb(26.666667%,26.666667%,26.666667%);stroke-opacity:1;stroke-miterlimit:10;\" d=\"M 395.632812 288.027344 L 283.957031 246.289062 \"/>\n",
       "<path style=\" stroke:none;fill-rule:nonzero;fill:rgb(26.666667%,26.666667%,26.666667%);fill-opacity:1;\" d=\"M 270.59375 241.292969 L 285.582031 241.945312 L 282.335938 250.628906 L 270.59375 241.292969 \"/>\n",
       "<path style=\"fill:none;stroke-width:1;stroke-linecap:butt;stroke-linejoin:miter;stroke:rgb(26.666667%,26.666667%,26.666667%);stroke-opacity:1;stroke-miterlimit:10;\" d=\"M 395.632812 288.027344 L 307.113281 112.644531 \"/>\n",
       "<path style=\" stroke:none;fill-rule:nonzero;fill:rgb(26.666667%,26.666667%,26.666667%);fill-opacity:1;\" d=\"M 300.683594 99.910156 L 311.25 110.558594 L 302.972656 114.734375 L 300.683594 99.910156 \"/>\n",
       "<path style=\"fill:none;stroke-width:1;stroke-linecap:butt;stroke-linejoin:miter;stroke:rgb(26.666667%,26.666667%,26.666667%);stroke-opacity:1;stroke-miterlimit:10;\" d=\"M 395.632812 288.027344 L 547.960938 265.910156 \"/>\n",
       "<path style=\" stroke:none;fill-rule:nonzero;fill:rgb(26.666667%,26.666667%,26.666667%);fill-opacity:1;\" d=\"M 562.078125 263.863281 L 548.628906 270.5 L 547.296875 261.324219 L 562.078125 263.863281 \"/>\n",
       "<path style=\"fill:none;stroke-width:1;stroke-linecap:butt;stroke-linejoin:miter;stroke:rgb(26.666667%,26.666667%,26.666667%);stroke-opacity:1;stroke-miterlimit:10;\" d=\"M 417.398438 100.605469 L 279.457031 221.777344 \"/>\n",
       "<path style=\" stroke:none;fill-rule:nonzero;fill:rgb(26.666667%,26.666667%,26.666667%);fill-opacity:1;\" d=\"M 268.742188 231.191406 L 276.398438 218.296875 L 282.519531 225.261719 L 268.742188 231.191406 \"/>\n",
       "<path style=\"fill:none;stroke-width:1;stroke-linecap:butt;stroke-linejoin:miter;stroke:rgb(26.666667%,26.666667%,26.666667%);stroke-opacity:1;stroke-miterlimit:10;\" d=\"M 417.398438 100.605469 L 320.367188 92.902344 \"/>\n",
       "<path style=\" stroke:none;fill-rule:nonzero;fill:rgb(26.666667%,26.666667%,26.666667%);fill-opacity:1;\" d=\"M 306.144531 91.773438 L 320.734375 88.28125 L 320 97.523438 L 306.144531 91.773438 \"/>\n",
       "<path style=\"fill-rule:nonzero;fill:rgb(100%,100%,0%);fill-opacity:1;stroke-width:1;stroke-linecap:butt;stroke-linejoin:miter;stroke:rgb(0%,0%,0%);stroke-opacity:1;stroke-miterlimit:10;\" d=\"M 299.648438 580 C 299.648438 585.523438 295.167969 590 289.648438 590 C 284.125 590 279.648438 585.523438 279.648438 580 C 279.648438 574.476562 284.125 570 289.648438 570 C 295.167969 570 299.648438 574.476562 299.648438 580 \"/>\n",
       "<path style=\"fill-rule:nonzero;fill:rgb(100%,100%,0%);fill-opacity:1;stroke-width:1;stroke-linecap:butt;stroke-linejoin:miter;stroke:rgb(0%,0%,0%);stroke-opacity:1;stroke-miterlimit:10;\" d=\"M 30 129.941406 C 30 135.460938 25.523438 139.941406 20 139.941406 C 14.476562 139.941406 10 135.460938 10 129.941406 C 10 124.417969 14.476562 119.941406 20 119.941406 C 25.523438 119.941406 30 124.417969 30 129.941406 \"/>\n",
       "<path style=\"fill-rule:nonzero;fill:rgb(0%,0%,100%);fill-opacity:1;stroke-width:1;stroke-linecap:butt;stroke-linejoin:miter;stroke:rgb(0%,0%,0%);stroke-opacity:1;stroke-miterlimit:10;\" d=\"M 389.730469 471.371094 C 389.730469 476.894531 385.253906 481.371094 379.730469 481.371094 C 374.210938 481.371094 369.730469 476.894531 369.730469 471.371094 C 369.730469 465.851562 374.210938 461.371094 379.730469 461.371094 C 385.253906 461.371094 389.730469 465.851562 389.730469 471.371094 \"/>\n",
       "<path style=\"fill-rule:nonzero;fill:rgb(0%,100%,0%);fill-opacity:1;stroke-width:1;stroke-linecap:butt;stroke-linejoin:miter;stroke:rgb(0%,0%,0%);stroke-opacity:1;stroke-miterlimit:10;\" d=\"M 405.632812 288.027344 C 405.632812 293.550781 401.152344 298.027344 395.632812 298.027344 C 390.109375 298.027344 385.632812 293.550781 385.632812 288.027344 C 385.632812 282.503906 390.109375 278.027344 395.632812 278.027344 C 401.152344 278.027344 405.632812 282.503906 405.632812 288.027344 \"/>\n",
       "<path style=\"fill-rule:nonzero;fill:rgb(0%,0%,100%);fill-opacity:1;stroke-width:1;stroke-linecap:butt;stroke-linejoin:miter;stroke:rgb(0%,0%,0%);stroke-opacity:1;stroke-miterlimit:10;\" d=\"M 89.8125 268.324219 C 89.8125 273.847656 85.335938 278.324219 79.8125 278.324219 C 74.292969 278.324219 69.8125 273.847656 69.8125 268.324219 C 69.8125 262.800781 74.292969 258.324219 79.8125 258.324219 C 85.335938 258.324219 89.8125 262.800781 89.8125 268.324219 \"/>\n",
       "<path style=\"fill-rule:nonzero;fill:rgb(100%,0%,0%);fill-opacity:1;stroke-width:1;stroke-linecap:butt;stroke-linejoin:miter;stroke:rgb(0%,0%,0%);stroke-opacity:1;stroke-miterlimit:10;\" d=\"M 271.226562 237.792969 C 271.226562 243.316406 266.75 247.792969 261.226562 247.792969 C 255.703125 247.792969 251.226562 243.316406 251.226562 237.792969 C 251.226562 232.269531 255.703125 227.792969 261.226562 227.792969 C 266.75 227.792969 271.226562 232.269531 271.226562 237.792969 \"/>\n",
       "<path style=\"fill-rule:nonzero;fill:rgb(0%,0%,100%);fill-opacity:1;stroke-width:1;stroke-linecap:butt;stroke-linejoin:miter;stroke:rgb(0%,0%,0%);stroke-opacity:1;stroke-miterlimit:10;\" d=\"M 145.453125 20 C 145.453125 25.523438 140.976562 30 135.453125 30 C 129.929688 30 125.453125 25.523438 125.453125 20 C 125.453125 14.476562 129.929688 10 135.453125 10 C 140.976562 10 145.453125 14.476562 145.453125 20 \"/>\n",
       "<path style=\"fill-rule:nonzero;fill:rgb(100%,0%,0%);fill-opacity:1;stroke-width:1;stroke-linecap:butt;stroke-linejoin:miter;stroke:rgb(0%,0%,0%);stroke-opacity:1;stroke-miterlimit:10;\" d=\"M 306.175781 90.980469 C 306.175781 96.503906 301.699219 100.980469 296.175781 100.980469 C 290.65625 100.980469 286.175781 96.503906 286.175781 90.980469 C 286.175781 85.460938 290.65625 80.980469 296.175781 80.980469 C 301.699219 80.980469 306.175781 85.460938 306.175781 90.980469 \"/>\n",
       "<path style=\"fill-rule:nonzero;fill:rgb(0%,0%,100%);fill-opacity:1;stroke-width:1;stroke-linecap:butt;stroke-linejoin:miter;stroke:rgb(0%,0%,0%);stroke-opacity:1;stroke-miterlimit:10;\" d=\"M 590 112.777344 C 590 118.300781 585.523438 122.777344 580 122.777344 C 574.476562 122.777344 570 118.300781 570 112.777344 C 570 107.253906 574.476562 102.777344 580 102.777344 C 585.523438 102.777344 590 107.253906 590 112.777344 \"/>\n",
       "<path style=\"fill-rule:nonzero;fill:rgb(100%,0%,0%);fill-opacity:1;stroke-width:1;stroke-linecap:butt;stroke-linejoin:miter;stroke:rgb(0%,0%,0%);stroke-opacity:1;stroke-miterlimit:10;\" d=\"M 581.976562 262.425781 C 581.976562 267.949219 577.5 272.425781 571.976562 272.425781 C 566.453125 272.425781 561.976562 267.949219 561.976562 262.425781 C 561.976562 256.902344 566.453125 252.425781 571.976562 252.425781 C 577.5 252.425781 581.976562 256.902344 581.976562 262.425781 \"/>\n",
       "<path style=\"fill-rule:nonzero;fill:rgb(0%,100%,0%);fill-opacity:1;stroke-width:1;stroke-linecap:butt;stroke-linejoin:miter;stroke:rgb(0%,0%,0%);stroke-opacity:1;stroke-miterlimit:10;\" d=\"M 427.398438 100.605469 C 427.398438 106.128906 422.921875 110.605469 417.398438 110.605469 C 411.875 110.605469 407.398438 106.128906 407.398438 100.605469 C 407.398438 95.085938 411.875 90.605469 417.398438 90.605469 C 422.921875 90.605469 427.398438 95.085938 427.398438 100.605469 \"/>\n",
       "<g style=\"fill:rgb(0%,0%,0%);fill-opacity:1;\">\n",
       "  <use xlink:href=\"#glyph0-1\" x=\"313.148438\" y=\"478.34375\"/>\n",
       "  <use xlink:href=\"#glyph0-2\" x=\"322.035156\" y=\"478.34375\"/>\n",
       "  <use xlink:href=\"#glyph0-3\" x=\"335.87793\" y=\"478.34375\"/>\n",
       "  <use xlink:href=\"#glyph0-4\" x=\"344.785156\" y=\"478.34375\"/>\n",
       "  <use xlink:href=\"#glyph0-5\" x=\"353.692383\" y=\"478.34375\"/>\n",
       "  <use xlink:href=\"#glyph0-6\" x=\"362.599609\" y=\"478.34375\"/>\n",
       "  <use xlink:href=\"#glyph0-7\" x=\"367.316406\" y=\"478.34375\"/>\n",
       "  <use xlink:href=\"#glyph0-4\" x=\"376.223633\" y=\"478.34375\"/>\n",
       "  <use xlink:href=\"#glyph0-5\" x=\"385.130859\" y=\"478.34375\"/>\n",
       "  <use xlink:href=\"#glyph0-8\" x=\"394.038086\" y=\"478.34375\"/>\n",
       "  <use xlink:href=\"#glyph0-9\" x=\"398.488281\" y=\"478.34375\"/>\n",
       "  <use xlink:href=\"#glyph0-10\" x=\"402.938477\" y=\"478.34375\"/>\n",
       "  <use xlink:href=\"#glyph0-11\" x=\"407.867188\" y=\"478.34375\"/>\n",
       "  <use xlink:href=\"#glyph0-7\" x=\"419.597656\" y=\"478.34375\"/>\n",
       "  <use xlink:href=\"#glyph0-4\" x=\"428.504883\" y=\"478.34375\"/>\n",
       "  <use xlink:href=\"#glyph0-5\" x=\"437.412109\" y=\"478.34375\"/>\n",
       "</g>\n",
       "<g style=\"fill:rgb(0%,0%,0%);fill-opacity:1;\">\n",
       "  <use xlink:href=\"#glyph0-1\" x=\"46.914062\" y=\"275.292969\"/>\n",
       "  <use xlink:href=\"#glyph0-2\" x=\"55.800781\" y=\"275.292969\"/>\n",
       "  <use xlink:href=\"#glyph0-8\" x=\"69.643555\" y=\"275.292969\"/>\n",
       "  <use xlink:href=\"#glyph0-9\" x=\"74.09375\" y=\"275.292969\"/>\n",
       "  <use xlink:href=\"#glyph0-10\" x=\"78.543945\" y=\"275.292969\"/>\n",
       "  <use xlink:href=\"#glyph0-11\" x=\"83.472656\" y=\"275.292969\"/>\n",
       "  <use xlink:href=\"#glyph0-12\" x=\"95.203125\" y=\"275.292969\"/>\n",
       "  <use xlink:href=\"#glyph0-4\" x=\"104.110352\" y=\"275.292969\"/>\n",
       "</g>\n",
       "<g style=\"fill:rgb(0%,0%,0%);fill-opacity:1;\">\n",
       "  <use xlink:href=\"#glyph0-1\" x=\"102.40625\" y=\"26.96875\"/>\n",
       "  <use xlink:href=\"#glyph0-2\" x=\"111.292969\" y=\"26.96875\"/>\n",
       "  <use xlink:href=\"#glyph0-8\" x=\"125.135742\" y=\"26.96875\"/>\n",
       "  <use xlink:href=\"#glyph0-9\" x=\"129.585938\" y=\"26.96875\"/>\n",
       "  <use xlink:href=\"#glyph0-10\" x=\"134.036133\" y=\"26.96875\"/>\n",
       "  <use xlink:href=\"#glyph0-11\" x=\"138.964844\" y=\"26.96875\"/>\n",
       "  <use xlink:href=\"#glyph0-3\" x=\"150.695312\" y=\"26.96875\"/>\n",
       "  <use xlink:href=\"#glyph0-5\" x=\"159.602539\" y=\"26.96875\"/>\n",
       "</g>\n",
       "<g style=\"fill:rgb(0%,0%,0%);fill-opacity:1;\">\n",
       "  <use xlink:href=\"#glyph0-1\" x=\"555.828125\" y=\"119.625\"/>\n",
       "  <use xlink:href=\"#glyph0-2\" x=\"564.714844\" y=\"119.625\"/>\n",
       "  <use xlink:href=\"#glyph0-8\" x=\"578.557617\" y=\"119.625\"/>\n",
       "  <use xlink:href=\"#glyph0-9\" x=\"583.007812\" y=\"119.625\"/>\n",
       "  <use xlink:href=\"#glyph0-13\" x=\"587.458008\" y=\"119.625\"/>\n",
       "  <use xlink:href=\"#glyph0-12\" x=\"595.743164\" y=\"119.625\"/>\n",
       "</g>\n",
       "</g>\n",
       "</svg>\n"
      ],
      "text/plain": [
       "<igraph.drawing.Plot at 0x7fa404130518>"
      ]
     },
     "execution_count": 3,
     "metadata": {},
     "output_type": "execute_result"
    }
   ],
   "source": [
    "e.plot_connection_garph()"
   ]
  }
 ],
 "metadata": {
  "kernelspec": {
   "display_name": "Python 3",
   "language": "python",
   "name": "python3"
  },
  "language_info": {
   "codemirror_mode": {
    "name": "ipython",
    "version": 3
   },
   "file_extension": ".py",
   "mimetype": "text/x-python",
   "name": "python",
   "nbconvert_exporter": "python",
   "pygments_lexer": "ipython3",
   "version": "3.6.2"
  }
 },
 "nbformat": 4,
 "nbformat_minor": 2
}
