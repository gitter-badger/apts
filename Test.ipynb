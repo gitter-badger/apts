{
 "cells": [
  {
   "cell_type": "code",
   "execution_count": 5,
   "metadata": {},
   "outputs": [
    {
     "data": {
      "text/plain": [
       "<matplotlib.axes._subplots.AxesSubplot at 0x7fee2283c400>"
      ]
     },
     "execution_count": 5,
     "metadata": {},
     "output_type": "execute_result"
    },
    {
     "data": {
      "image/png": "[encoded data removed]",
      "text/plain": [
       "<matplotlib.figure.Figure at 0x7fee228435c0>"
      ]
     },
     "metadata": {},
     "output_type": "display_data"
    }
   ],
   "source": [
    "import apts.equipment as eq\n",
    "import pandas as pd\n",
    "\n",
    "%matplotlib inline  \n",
    "\n",
    "\n",
    "e = eq.Equipment()\n",
    "\n",
    "e.register_telescope(eq.Telescope(750, \"SW150/750\"))\n",
    "e.register_ocular(eq.Ocular(25, \"SW\"))\n",
    "e.register_ocular(eq.Ocular(10, \"SW\"))\n",
    "e.register_barlow(eq.Barlow(2, \"SW\"))\n",
    "\n",
    "zooms = pd.Series(e.get_possiable_zooms())\n",
    "\n",
    "zooms.plot(kind='bar')"
   ]
  },
  {
   "cell_type": "code",
   "execution_count": 4,
   "metadata": {},
   "outputs": [
    {
     "data": {
      "image/svg+xml": [
       "<?xml version=\"1.0\" encoding=\"UTF-8\"?>\n",
       "<svg xmlns=\"http://www.w3.org/2000/svg\" xmlns:xlink=\"http://www.w3.org/1999/xlink\" width=\"600pt\" height=\"600pt\" viewBox=\"0 0 600 600\" version=\"1.1\">\n",
       "<defs>\n",
       "<g>\n",
       "<symbol overflow=\"visible\" id=\"glyph0-0\">\n",
       "<path style=\"stroke:none;\" d=\"M 0.703125 2.46875 L 0.703125 -9.875 L 7.703125 -9.875 L 7.703125 2.46875 Z M 1.484375 1.703125 L 6.921875 1.703125 L 6.921875 -9.078125 L 1.484375 -9.078125 Z M 1.484375 1.703125 \"/>\n",
       "</symbol>\n",
       "<symbol overflow=\"visible\" id=\"glyph0-1\">\n",
       "<path style=\"stroke:none;\" d=\"M 7.5 -9.875 L 7.5 -8.53125 C 6.96875 -8.78125 6.46875 -8.960938 6 -9.078125 C 5.539062 -9.203125 5.09375 -9.265625 4.65625 -9.265625 C 3.90625 -9.265625 3.328125 -9.117188 2.921875 -8.828125 C 2.515625 -8.535156 2.3125 -8.125 2.3125 -7.59375 C 2.3125 -7.132812 2.445312 -6.789062 2.71875 -6.5625 C 2.988281 -6.332031 3.503906 -6.148438 4.265625 -6.015625 L 5.09375 -5.84375 C 6.125 -5.644531 6.882812 -5.296875 7.375 -4.796875 C 7.863281 -4.304688 8.109375 -3.644531 8.109375 -2.8125 C 8.109375 -1.820312 7.773438 -1.070312 7.109375 -0.5625 C 6.453125 -0.0507812 5.484375 0.203125 4.203125 0.203125 C 3.710938 0.203125 3.195312 0.144531 2.65625 0.03125 C 2.113281 -0.0703125 1.550781 -0.234375 0.96875 -0.453125 L 0.96875 -1.875 C 1.53125 -1.5625 2.078125 -1.320312 2.609375 -1.15625 C 3.148438 -1 3.679688 -0.921875 4.203125 -0.921875 C 4.984375 -0.921875 5.585938 -1.078125 6.015625 -1.390625 C 6.453125 -1.703125 6.671875 -2.144531 6.671875 -2.71875 C 6.671875 -3.21875 6.515625 -3.609375 6.203125 -3.890625 C 5.898438 -4.171875 5.394531 -4.382812 4.6875 -4.53125 L 3.84375 -4.6875 C 2.8125 -4.894531 2.066406 -5.21875 1.609375 -5.65625 C 1.148438 -6.09375 0.921875 -6.703125 0.921875 -7.484375 C 0.921875 -8.378906 1.238281 -9.085938 1.875 -9.609375 C 2.507812 -10.128906 3.382812 -10.390625 4.5 -10.390625 C 4.976562 -10.390625 5.46875 -10.34375 5.96875 -10.25 C 6.46875 -10.164062 6.976562 -10.039062 7.5 -9.875 Z M 7.5 -9.875 \"/>\n",
       "</symbol>\n",
       "<symbol overflow=\"visible\" id=\"glyph0-2\">\n",
       "<path style=\"stroke:none;\" d=\"M 0.46875 -10.203125 L 1.859375 -10.203125 L 4 -1.578125 L 6.140625 -10.203125 L 7.703125 -10.203125 L 9.84375 -1.578125 L 11.984375 -10.203125 L 13.390625 -10.203125 L 10.828125 0 L 9.078125 0 L 6.9375 -8.859375 L 4.765625 0 L 3.015625 0 Z M 0.46875 -10.203125 \"/>\n",
       "</symbol>\n",
       "<symbol overflow=\"visible\" id=\"glyph0-3\">\n",
       "<path style=\"stroke:none;\" d=\"M 1.734375 -1.15625 L 4 -1.15625 L 4 -8.953125 L 1.53125 -8.453125 L 1.53125 -9.71875 L 3.984375 -10.203125 L 5.359375 -10.203125 L 5.359375 -1.15625 L 7.609375 -1.15625 L 7.609375 0 L 1.734375 0 Z M 1.734375 -1.15625 \"/>\n",
       "</symbol>\n",
       "<symbol overflow=\"visible\" id=\"glyph0-4\">\n",
       "<path style=\"stroke:none;\" d=\"M 1.515625 -10.203125 L 6.9375 -10.203125 L 6.9375 -9.046875 L 2.78125 -9.046875 L 2.78125 -6.546875 C 2.976562 -6.609375 3.175781 -6.65625 3.375 -6.6875 C 3.570312 -6.726562 3.773438 -6.75 3.984375 -6.75 C 5.117188 -6.75 6.019531 -6.4375 6.6875 -5.8125 C 7.351562 -5.1875 7.6875 -4.34375 7.6875 -3.28125 C 7.6875 -2.175781 7.34375 -1.316406 6.65625 -0.703125 C 5.976562 -0.0976562 5.015625 0.203125 3.765625 0.203125 C 3.335938 0.203125 2.898438 0.164062 2.453125 0.09375 C 2.015625 0.0195312 1.554688 -0.0859375 1.078125 -0.234375 L 1.078125 -1.625 C 1.492188 -1.40625 1.921875 -1.238281 2.359375 -1.125 C 2.796875 -1.019531 3.253906 -0.96875 3.734375 -0.96875 C 4.523438 -0.96875 5.148438 -1.171875 5.609375 -1.578125 C 6.066406 -1.992188 6.296875 -2.5625 6.296875 -3.28125 C 6.296875 -3.988281 6.066406 -4.546875 5.609375 -4.953125 C 5.148438 -5.367188 4.523438 -5.578125 3.734375 -5.578125 C 3.367188 -5.578125 3 -5.535156 2.625 -5.453125 C 2.257812 -5.378906 1.890625 -5.253906 1.515625 -5.078125 Z M 1.515625 -10.203125 \"/>\n",
       "</symbol>\n",
       "<symbol overflow=\"visible\" id=\"glyph0-5\">\n",
       "<path style=\"stroke:none;\" d=\"M 4.453125 -9.296875 C 3.742188 -9.296875 3.207031 -8.945312 2.84375 -8.25 C 2.488281 -7.550781 2.3125 -6.5 2.3125 -5.09375 C 2.3125 -3.695312 2.488281 -2.644531 2.84375 -1.9375 C 3.207031 -1.238281 3.742188 -0.890625 4.453125 -0.890625 C 5.171875 -0.890625 5.707031 -1.238281 6.0625 -1.9375 C 6.414062 -2.644531 6.59375 -3.695312 6.59375 -5.09375 C 6.59375 -6.5 6.414062 -7.550781 6.0625 -8.25 C 5.707031 -8.945312 5.171875 -9.296875 4.453125 -9.296875 Z M 4.453125 -10.390625 C 5.597656 -10.390625 6.472656 -9.9375 7.078125 -9.03125 C 7.679688 -8.125 7.984375 -6.8125 7.984375 -5.09375 C 7.984375 -3.375 7.679688 -2.0625 7.078125 -1.15625 C 6.472656 -0.25 5.597656 0.203125 4.453125 0.203125 C 3.304688 0.203125 2.429688 -0.25 1.828125 -1.15625 C 1.222656 -2.0625 0.921875 -3.375 0.921875 -5.09375 C 0.921875 -6.8125 1.222656 -8.125 1.828125 -9.03125 C 2.429688 -9.9375 3.304688 -10.390625 4.453125 -10.390625 Z M 4.453125 -10.390625 \"/>\n",
       "</symbol>\n",
       "<symbol overflow=\"visible\" id=\"glyph0-6\">\n",
       "<path style=\"stroke:none;\" d=\"M 3.5625 -10.203125 L 4.71875 -10.203125 L 1.15625 1.296875 L 0 1.296875 Z M 3.5625 -10.203125 \"/>\n",
       "</symbol>\n",
       "<symbol overflow=\"visible\" id=\"glyph0-7\">\n",
       "<path style=\"stroke:none;\" d=\"M 1.15625 -10.203125 L 7.71875 -10.203125 L 7.71875 -9.625 L 4 0 L 2.5625 0 L 6.046875 -9.046875 L 1.15625 -9.046875 Z M 1.15625 -10.203125 \"/>\n",
       "</symbol>\n",
       "<symbol overflow=\"visible\" id=\"glyph0-8\">\n",
       "<path style=\"stroke:none;\" d=\"M 1.640625 -1.734375 L 3.078125 -1.734375 L 3.078125 -0.5625 L 1.96875 1.625 L 1.078125 1.625 L 1.640625 -0.5625 Z M 1.640625 -1.734375 \"/>\n",
       "</symbol>\n",
       "<symbol overflow=\"visible\" id=\"glyph0-9\">\n",
       "<path style=\"stroke:none;\" d=\"\"/>\n",
       "</symbol>\n",
       "<symbol overflow=\"visible\" id=\"glyph0-10\">\n",
       "<path style=\"stroke:none;\" d=\"M 5.203125 -10.640625 L 5.203125 -9.59375 L 4 -9.59375 C 3.539062 -9.59375 3.222656 -9.5 3.046875 -9.3125 C 2.878906 -9.132812 2.796875 -8.804688 2.796875 -8.328125 L 2.796875 -7.65625 L 4.859375 -7.65625 L 4.859375 -6.671875 L 2.796875 -6.671875 L 2.796875 0 L 1.53125 0 L 1.53125 -6.671875 L 0.328125 -6.671875 L 0.328125 -7.65625 L 1.53125 -7.65625 L 1.53125 -8.1875 C 1.53125 -9.039062 1.726562 -9.660156 2.125 -10.046875 C 2.519531 -10.441406 3.144531 -10.640625 4 -10.640625 Z M 5.203125 -10.640625 \"/>\n",
       "</symbol>\n",
       "<symbol overflow=\"visible\" id=\"glyph0-11\">\n",
       "<path style=\"stroke:none;\" d=\"M 1.484375 -6.359375 L 10.25 -6.359375 L 10.25 -5.203125 L 1.484375 -5.203125 Z M 1.484375 -3.5625 L 10.25 -3.5625 L 10.25 -2.40625 L 1.484375 -2.40625 Z M 1.484375 -3.5625 \"/>\n",
       "</symbol>\n",
       "<symbol overflow=\"visible\" id=\"glyph0-12\">\n",
       "<path style=\"stroke:none;\" d=\"M 2.6875 -1.15625 L 7.5 -1.15625 L 7.5 0 L 1.03125 0 L 1.03125 -1.15625 C 1.550781 -1.695312 2.265625 -2.425781 3.171875 -3.34375 C 4.078125 -4.257812 4.644531 -4.847656 4.875 -5.109375 C 5.3125 -5.609375 5.617188 -6.03125 5.796875 -6.375 C 5.972656 -6.71875 6.0625 -7.054688 6.0625 -7.390625 C 6.0625 -7.929688 5.867188 -8.375 5.484375 -8.71875 C 5.109375 -9.0625 4.613281 -9.234375 4 -9.234375 C 3.570312 -9.234375 3.117188 -9.15625 2.640625 -9 C 2.160156 -8.851562 1.644531 -8.625 1.09375 -8.3125 L 1.09375 -9.71875 C 1.644531 -9.9375 2.160156 -10.101562 2.640625 -10.21875 C 3.128906 -10.332031 3.578125 -10.390625 3.984375 -10.390625 C 5.035156 -10.390625 5.875 -10.125 6.5 -9.59375 C 7.132812 -9.070312 7.453125 -8.367188 7.453125 -7.484375 C 7.453125 -7.054688 7.375 -6.65625 7.21875 -6.28125 C 7.0625 -5.90625 6.773438 -5.460938 6.359375 -4.953125 C 6.242188 -4.828125 5.878906 -4.445312 5.265625 -3.8125 C 4.660156 -3.175781 3.800781 -2.289062 2.6875 -1.15625 Z M 2.6875 -1.15625 \"/>\n",
       "</symbol>\n",
       "<symbol overflow=\"visible\" id=\"glyph0-13\">\n",
       "<path style=\"stroke:none;\" d=\"M 7.6875 -7.65625 L 4.921875 -3.9375 L 7.828125 0 L 6.34375 0 L 4.109375 -3.015625 L 1.890625 0 L 0.40625 0 L 3.375 -4 L 0.65625 -7.65625 L 2.140625 -7.65625 L 4.171875 -4.921875 L 6.203125 -7.65625 Z M 7.6875 -7.65625 \"/>\n",
       "</symbol>\n",
       "</g>\n",
       "</defs>\n",
       "<g id=\"surface8\">\n",
       "<rect x=\"0\" y=\"0\" width=\"600\" height=\"600\" style=\"fill:rgb(100%,100%,100%);fill-opacity:1;stroke:none;\"/>\n",
       "<path style=\"fill:none;stroke-width:1;stroke-linecap:butt;stroke-linejoin:miter;stroke:rgb(26.666667%,26.666667%,26.666667%);stroke-opacity:1;stroke-miterlimit:10;\" d=\"M 20 437.222656 L 84.765625 338.253906 \"/>\n",
       "<path style=\" stroke:none;fill-rule:nonzero;fill:rgb(26.666667%,26.666667%,26.666667%);fill-opacity:1;\" d=\"M 92.578125 326.316406 L 88.644531 340.789062 L 80.890625 335.714844 L 92.578125 326.316406 \"/>\n",
       "<path style=\"fill:none;stroke-width:1;stroke-linecap:butt;stroke-linejoin:miter;stroke:rgb(26.666667%,26.666667%,26.666667%);stroke-opacity:1;stroke-miterlimit:10;\" d=\"M 98.054688 317.949219 L 241.949219 260.078125 \"/>\n",
       "<path style=\" stroke:none;fill-rule:nonzero;fill:rgb(26.666667%,26.666667%,26.666667%);fill-opacity:1;\" d=\"M 255.183594 254.753906 L 243.679688 264.378906 L 240.21875 255.777344 L 255.183594 254.753906 \"/>\n",
       "<path style=\"fill:none;stroke-width:1;stroke-linecap:butt;stroke-linejoin:miter;stroke:rgb(26.666667%,26.666667%,26.666667%);stroke-opacity:1;stroke-miterlimit:10;\" d=\"M 363.269531 558.652344 L 483.152344 576.4375 \"/>\n",
       "<path style=\" stroke:none;fill-rule:nonzero;fill:rgb(26.666667%,26.666667%,26.666667%);fill-opacity:1;\" d=\"M 497.265625 578.53125 L 482.472656 581.023438 L 483.832031 571.855469 L 497.265625 578.53125 \"/>\n",
       "<path style=\"fill:none;stroke-width:1;stroke-linecap:butt;stroke-linejoin:miter;stroke:rgb(26.666667%,26.666667%,26.666667%);stroke-opacity:1;stroke-miterlimit:10;\" d=\"M 345.496094 370.265625 L 360.992188 534.492188 \"/>\n",
       "<path style=\" stroke:none;fill-rule:nonzero;fill:rgb(26.666667%,26.666667%,26.666667%);fill-opacity:1;\" d=\"M 362.332031 548.695312 L 356.375 534.929688 L 365.605469 534.058594 L 362.332031 548.695312 \"/>\n",
       "<path style=\"fill:none;stroke-width:1;stroke-linecap:butt;stroke-linejoin:miter;stroke:rgb(26.666667%,26.666667%,26.666667%);stroke-opacity:1;stroke-miterlimit:10;\" d=\"M 580 435.285156 L 518.066406 558.324219 \"/>\n",
       "<path style=\" stroke:none;fill-rule:nonzero;fill:rgb(26.666667%,26.666667%,26.666667%);fill-opacity:1;\" d=\"M 511.652344 571.066406 L 513.925781 556.242188 L 522.207031 560.410156 L 511.652344 571.066406 \"/>\n",
       "<path style=\"fill:none;stroke-width:1;stroke-linecap:butt;stroke-linejoin:miter;stroke:rgb(26.666667%,26.666667%,26.666667%);stroke-opacity:1;stroke-miterlimit:10;\" d=\"M 473.082031 295.355469 L 565.265625 416.003906 \"/>\n",
       "<path style=\" stroke:none;fill-rule:nonzero;fill:rgb(26.666667%,26.666667%,26.666667%);fill-opacity:1;\" d=\"M 573.929688 427.339844 L 561.585938 418.816406 L 568.949219 413.191406 L 573.929688 427.339844 \"/>\n",
       "<path style=\"fill:none;stroke-width:1;stroke-linecap:butt;stroke-linejoin:miter;stroke:rgb(26.666667%,26.666667%,26.666667%);stroke-opacity:1;stroke-miterlimit:10;\" d=\"M 380.539062 20 L 425.738281 154.757812 \"/>\n",
       "<path style=\" stroke:none;fill-rule:nonzero;fill:rgb(26.666667%,26.666667%,26.666667%);fill-opacity:1;\" d=\"M 430.277344 168.28125 L 421.34375 156.230469 L 430.132812 153.28125 L 430.277344 168.28125 \"/>\n",
       "<path style=\"fill:none;stroke-width:1;stroke-linecap:butt;stroke-linejoin:miter;stroke:rgb(26.666667%,26.666667%,26.666667%);stroke-opacity:1;stroke-miterlimit:10;\" d=\"M 243.234375 69.253906 L 357.695312 28.195312 \"/>\n",
       "<path style=\" stroke:none;fill-rule:nonzero;fill:rgb(26.666667%,26.666667%,26.666667%);fill-opacity:1;\" d=\"M 371.125 23.375 L 359.261719 32.554688 L 356.132812 23.832031 L 371.125 23.375 \"/>\n",
       "<path style=\"fill:none;stroke-width:1;stroke-linecap:butt;stroke-linejoin:miter;stroke:rgb(26.666667%,26.666667%,26.666667%);stroke-opacity:1;stroke-miterlimit:10;\" d=\"M 264.460938 251.023438 L 331.859375 350.195312 \"/>\n",
       "<path style=\" stroke:none;fill-rule:nonzero;fill:rgb(26.666667%,26.666667%,26.666667%);fill-opacity:1;\" d=\"M 339.878906 361.996094 L 328.023438 352.800781 L 335.691406 347.59375 L 339.878906 361.996094 \"/>\n",
       "<path style=\"fill:none;stroke-width:1;stroke-linecap:butt;stroke-linejoin:miter;stroke:rgb(26.666667%,26.666667%,26.666667%);stroke-opacity:1;stroke-miterlimit:10;\" d=\"M 264.460938 251.023438 L 449.34375 290.308594 \"/>\n",
       "<path style=\" stroke:none;fill-rule:nonzero;fill:rgb(26.666667%,26.666667%,26.666667%);fill-opacity:1;\" d=\"M 463.296875 293.273438 L 448.382812 294.84375 L 450.308594 285.777344 L 463.296875 293.273438 \"/>\n",
       "<path style=\"fill:none;stroke-width:1;stroke-linecap:butt;stroke-linejoin:miter;stroke:rgb(26.666667%,26.666667%,26.666667%);stroke-opacity:1;stroke-miterlimit:10;\" d=\"M 264.460938 251.023438 L 246.046875 93.355469 \"/>\n",
       "<path style=\" stroke:none;fill-rule:nonzero;fill:rgb(26.666667%,26.666667%,26.666667%);fill-opacity:1;\" d=\"M 244.394531 79.1875 L 250.652344 92.816406 L 241.445312 93.894531 L 244.394531 79.1875 \"/>\n",
       "<path style=\"fill:none;stroke-width:1;stroke-linecap:butt;stroke-linejoin:miter;stroke:rgb(26.666667%,26.666667%,26.666667%);stroke-opacity:1;stroke-miterlimit:10;\" d=\"M 433.457031 177.761719 L 355.582031 348.195312 \"/>\n",
       "<path style=\" stroke:none;fill-rule:nonzero;fill:rgb(26.666667%,26.666667%,26.666667%);fill-opacity:1;\" d=\"M 349.652344 361.171875 L 351.367188 346.269531 L 359.796875 350.121094 L 349.652344 361.171875 \"/>\n",
       "<path style=\"fill:none;stroke-width:1;stroke-linecap:butt;stroke-linejoin:miter;stroke:rgb(26.666667%,26.666667%,26.666667%);stroke-opacity:1;stroke-miterlimit:10;\" d=\"M 433.457031 177.761719 L 465.332031 272.359375 \"/>\n",
       "<path style=\" stroke:none;fill-rule:nonzero;fill:rgb(26.666667%,26.666667%,26.666667%);fill-opacity:1;\" d=\"M 469.886719 285.878906 L 460.9375 273.839844 L 469.722656 270.878906 L 469.886719 285.878906 \"/>\n",
       "<path style=\"fill-rule:nonzero;fill:rgb(100%,100%,0%);fill-opacity:1;stroke-width:1;stroke-linecap:butt;stroke-linejoin:miter;stroke:rgb(0%,0%,0%);stroke-opacity:1;stroke-miterlimit:10;\" d=\"M 30 437.222656 C 30 442.742188 25.523438 447.222656 20 447.222656 C 14.476562 447.222656 10 442.742188 10 437.222656 C 10 431.699219 14.476562 427.222656 20 427.222656 C 25.523438 427.222656 30 431.699219 30 437.222656 \"/>\n",
       "<path style=\"fill-rule:nonzero;fill:rgb(100%,100%,0%);fill-opacity:1;stroke-width:1;stroke-linecap:butt;stroke-linejoin:miter;stroke:rgb(0%,0%,0%);stroke-opacity:1;stroke-miterlimit:10;\" d=\"M 517.15625 580 C 517.15625 585.523438 512.679688 590 507.15625 590 C 501.632812 590 497.15625 585.523438 497.15625 580 C 497.15625 574.476562 501.632812 570 507.15625 570 C 512.679688 570 517.15625 574.476562 517.15625 580 \"/>\n",
       "<path style=\"fill-rule:nonzero;fill:rgb(0%,0%,100%);fill-opacity:1;stroke-width:1;stroke-linecap:butt;stroke-linejoin:miter;stroke:rgb(0%,0%,0%);stroke-opacity:1;stroke-miterlimit:10;\" d=\"M 108.054688 317.949219 C 108.054688 323.472656 103.578125 327.949219 98.054688 327.949219 C 92.53125 327.949219 88.054688 323.472656 88.054688 317.949219 C 88.054688 312.425781 92.53125 307.949219 98.054688 307.949219 C 103.578125 307.949219 108.054688 312.425781 108.054688 317.949219 \"/>\n",
       "<path style=\"fill-rule:nonzero;fill:rgb(0%,100%,0%);fill-opacity:1;stroke-width:1;stroke-linecap:butt;stroke-linejoin:miter;stroke:rgb(0%,0%,0%);stroke-opacity:1;stroke-miterlimit:10;\" d=\"M 274.460938 251.023438 C 274.460938 256.546875 269.984375 261.023438 264.460938 261.023438 C 258.9375 261.023438 254.460938 256.546875 254.460938 251.023438 C 254.460938 245.5 258.9375 241.023438 264.460938 241.023438 C 269.984375 241.023438 274.460938 245.5 274.460938 251.023438 \"/>\n",
       "<path style=\"fill-rule:nonzero;fill:rgb(0%,0%,100%);fill-opacity:1;stroke-width:1;stroke-linecap:butt;stroke-linejoin:miter;stroke:rgb(0%,0%,0%);stroke-opacity:1;stroke-miterlimit:10;\" d=\"M 373.269531 558.652344 C 373.269531 564.175781 368.792969 568.652344 363.269531 568.652344 C 357.746094 568.652344 353.269531 564.175781 353.269531 558.652344 C 353.269531 553.128906 357.746094 548.652344 363.269531 548.652344 C 368.792969 548.652344 373.269531 553.128906 373.269531 558.652344 \"/>\n",
       "<path style=\"fill-rule:nonzero;fill:rgb(100%,0%,0%);fill-opacity:1;stroke-width:1;stroke-linecap:butt;stroke-linejoin:miter;stroke:rgb(0%,0%,0%);stroke-opacity:1;stroke-miterlimit:10;\" d=\"M 355.496094 370.265625 C 355.496094 375.789062 351.019531 380.265625 345.496094 380.265625 C 339.976562 380.265625 335.496094 375.789062 335.496094 370.265625 C 335.496094 364.746094 339.976562 360.265625 345.496094 360.265625 C 351.019531 360.265625 355.496094 364.746094 355.496094 370.265625 \"/>\n",
       "<path style=\"fill-rule:nonzero;fill:rgb(0%,0%,100%);fill-opacity:1;stroke-width:1;stroke-linecap:butt;stroke-linejoin:miter;stroke:rgb(0%,0%,0%);stroke-opacity:1;stroke-miterlimit:10;\" d=\"M 590 435.285156 C 590 440.808594 585.523438 445.285156 580 445.285156 C 574.476562 445.285156 570 440.808594 570 435.285156 C 570 429.761719 574.476562 425.285156 580 425.285156 C 585.523438 425.285156 590 429.761719 590 435.285156 \"/>\n",
       "<path style=\"fill-rule:nonzero;fill:rgb(100%,0%,0%);fill-opacity:1;stroke-width:1;stroke-linecap:butt;stroke-linejoin:miter;stroke:rgb(0%,0%,0%);stroke-opacity:1;stroke-miterlimit:10;\" d=\"M 483.082031 295.355469 C 483.082031 300.875 478.601562 305.355469 473.082031 305.355469 C 467.558594 305.355469 463.082031 300.875 463.082031 295.355469 C 463.082031 289.832031 467.558594 285.355469 473.082031 285.355469 C 478.601562 285.355469 483.082031 289.832031 483.082031 295.355469 \"/>\n",
       "<path style=\"fill-rule:nonzero;fill:rgb(0%,0%,100%);fill-opacity:1;stroke-width:1;stroke-linecap:butt;stroke-linejoin:miter;stroke:rgb(0%,0%,0%);stroke-opacity:1;stroke-miterlimit:10;\" d=\"M 390.539062 20 C 390.539062 25.523438 386.058594 30 380.539062 30 C 375.015625 30 370.539062 25.523438 370.539062 20 C 370.539062 14.476562 375.015625 10 380.539062 10 C 386.058594 10 390.539062 14.476562 390.539062 20 \"/>\n",
       "<path style=\"fill-rule:nonzero;fill:rgb(100%,0%,0%);fill-opacity:1;stroke-width:1;stroke-linecap:butt;stroke-linejoin:miter;stroke:rgb(0%,0%,0%);stroke-opacity:1;stroke-miterlimit:10;\" d=\"M 253.234375 69.253906 C 253.234375 74.777344 248.753906 79.253906 243.234375 79.253906 C 237.710938 79.253906 233.234375 74.777344 233.234375 69.253906 C 233.234375 63.730469 237.710938 59.253906 243.234375 59.253906 C 248.753906 59.253906 253.234375 63.730469 253.234375 69.253906 \"/>\n",
       "<path style=\"fill-rule:nonzero;fill:rgb(0%,100%,0%);fill-opacity:1;stroke-width:1;stroke-linecap:butt;stroke-linejoin:miter;stroke:rgb(0%,0%,0%);stroke-opacity:1;stroke-miterlimit:10;\" d=\"M 443.457031 177.761719 C 443.457031 183.285156 438.980469 187.761719 433.457031 187.761719 C 427.933594 187.761719 423.457031 183.285156 423.457031 177.761719 C 423.457031 172.242188 427.933594 167.761719 433.457031 167.761719 C 438.980469 167.761719 443.457031 172.242188 443.457031 177.761719 \"/>\n",
       "<g style=\"fill:rgb(0%,0%,0%);fill-opacity:1;\">\n",
       "  <use xlink:href=\"#glyph0-1\" x=\"31.472656\" y=\"324.917969\"/>\n",
       "  <use xlink:href=\"#glyph0-2\" x=\"40.359375\" y=\"324.917969\"/>\n",
       "  <use xlink:href=\"#glyph0-3\" x=\"54.202148\" y=\"324.917969\"/>\n",
       "  <use xlink:href=\"#glyph0-4\" x=\"63.109375\" y=\"324.917969\"/>\n",
       "  <use xlink:href=\"#glyph0-5\" x=\"72.016602\" y=\"324.917969\"/>\n",
       "  <use xlink:href=\"#glyph0-6\" x=\"80.923828\" y=\"324.917969\"/>\n",
       "  <use xlink:href=\"#glyph0-7\" x=\"85.640625\" y=\"324.917969\"/>\n",
       "  <use xlink:href=\"#glyph0-4\" x=\"94.547852\" y=\"324.917969\"/>\n",
       "  <use xlink:href=\"#glyph0-5\" x=\"103.455078\" y=\"324.917969\"/>\n",
       "  <use xlink:href=\"#glyph0-8\" x=\"112.362305\" y=\"324.917969\"/>\n",
       "  <use xlink:href=\"#glyph0-9\" x=\"116.8125\" y=\"324.917969\"/>\n",
       "  <use xlink:href=\"#glyph0-10\" x=\"121.262695\" y=\"324.917969\"/>\n",
       "  <use xlink:href=\"#glyph0-11\" x=\"126.191406\" y=\"324.917969\"/>\n",
       "  <use xlink:href=\"#glyph0-7\" x=\"137.921875\" y=\"324.917969\"/>\n",
       "  <use xlink:href=\"#glyph0-4\" x=\"146.829102\" y=\"324.917969\"/>\n",
       "  <use xlink:href=\"#glyph0-5\" x=\"155.736328\" y=\"324.917969\"/>\n",
       "</g>\n",
       "<g style=\"fill:rgb(0%,0%,0%);fill-opacity:1;\">\n",
       "  <use xlink:href=\"#glyph0-1\" x=\"330.371094\" y=\"565.621094\"/>\n",
       "  <use xlink:href=\"#glyph0-2\" x=\"339.257812\" y=\"565.621094\"/>\n",
       "  <use xlink:href=\"#glyph0-8\" x=\"353.100586\" y=\"565.621094\"/>\n",
       "  <use xlink:href=\"#glyph0-9\" x=\"357.550781\" y=\"565.621094\"/>\n",
       "  <use xlink:href=\"#glyph0-10\" x=\"362.000977\" y=\"565.621094\"/>\n",
       "  <use xlink:href=\"#glyph0-11\" x=\"366.929688\" y=\"565.621094\"/>\n",
       "  <use xlink:href=\"#glyph0-12\" x=\"378.660156\" y=\"565.621094\"/>\n",
       "  <use xlink:href=\"#glyph0-4\" x=\"387.567383\" y=\"565.621094\"/>\n",
       "</g>\n",
       "<g style=\"fill:rgb(0%,0%,0%);fill-opacity:1;\">\n",
       "  <use xlink:href=\"#glyph0-1\" x=\"546.953125\" y=\"442.253906\"/>\n",
       "  <use xlink:href=\"#glyph0-2\" x=\"555.839844\" y=\"442.253906\"/>\n",
       "  <use xlink:href=\"#glyph0-8\" x=\"569.682617\" y=\"442.253906\"/>\n",
       "  <use xlink:href=\"#glyph0-9\" x=\"574.132812\" y=\"442.253906\"/>\n",
       "  <use xlink:href=\"#glyph0-10\" x=\"578.583008\" y=\"442.253906\"/>\n",
       "  <use xlink:href=\"#glyph0-11\" x=\"583.511719\" y=\"442.253906\"/>\n",
       "  <use xlink:href=\"#glyph0-3\" x=\"595.242188\" y=\"442.253906\"/>\n",
       "  <use xlink:href=\"#glyph0-5\" x=\"604.149414\" y=\"442.253906\"/>\n",
       "</g>\n",
       "<g style=\"fill:rgb(0%,0%,0%);fill-opacity:1;\">\n",
       "  <use xlink:href=\"#glyph0-1\" x=\"356.367188\" y=\"26.847656\"/>\n",
       "  <use xlink:href=\"#glyph0-2\" x=\"365.253906\" y=\"26.847656\"/>\n",
       "  <use xlink:href=\"#glyph0-8\" x=\"379.09668\" y=\"26.847656\"/>\n",
       "  <use xlink:href=\"#glyph0-9\" x=\"383.546875\" y=\"26.847656\"/>\n",
       "  <use xlink:href=\"#glyph0-13\" x=\"387.99707\" y=\"26.847656\"/>\n",
       "  <use xlink:href=\"#glyph0-12\" x=\"396.282227\" y=\"26.847656\"/>\n",
       "</g>\n",
       "</g>\n",
       "</svg>\n"
      ],
      "text/plain": [
       "<igraph.drawing.Plot at 0x7fee4c6444a8>"
      ]
     },
     "execution_count": 4,
     "metadata": {},
     "output_type": "execute_result"
    }
   ],
   "source": [
    "e.plot_connection_garph()"
   ]
  }
 ],
 "metadata": {
  "kernelspec": {
   "display_name": "Python 3",
   "language": "python",
   "name": "python3"
  },
  "language_info": {
   "codemirror_mode": {
    "name": "ipython",
    "version": 3
   },
   "file_extension": ".py",
   "mimetype": "text/x-python",
   "name": "python",
   "nbconvert_exporter": "python",
   "pygments_lexer": "ipython3",
   "version": "3.6.2"
  }
 },
 "nbformat": 4,
 "nbformat_minor": 2
}
