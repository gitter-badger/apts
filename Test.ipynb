{
 "cells": [
  {
   "cell_type": "code",
   "execution_count": 1,
   "metadata": {},
   "outputs": [
    {
     "ename": "SyntaxError",
     "evalue": "invalid syntax (equipment.py, line 76)",
     "output_type": "error",
     "traceback": [
      "\u001b[0;36m  File \u001b[0;32m\"/home/pozar/src/projects/python/apts/apts/equipment.py\"\u001b[0;36m, line \u001b[0;32m76\u001b[0m\n\u001b[0;31m    else if node_type == Type.GENERIC:\u001b[0m\n\u001b[0m          ^\u001b[0m\n\u001b[0;31mSyntaxError\u001b[0m\u001b[0;31m:\u001b[0m invalid syntax\n"
     ]
    }
   ],
   "source": [
    "import apts.equipment as eq\n",
    "import pandas as pd\n",
    "\n",
    "%matplotlib inline  "
   ]
  },
  {
   "cell_type": "code",
   "execution_count": null,
   "metadata": {},
   "outputs": [],
   "source": [
    "e = eq.Equipment()\n",
    "\n",
    "e.register(eq.Telescope(750, \"SW150/750\"))\n",
    "e.register(eq.Ocular(25, \"SW\"))\n",
    "e.register(eq.Ocular(10, \"SW\"))\n",
    "e.register(eq.Barlow(2, \"SW\"))\n",
    "\n",
    "zooms = pd.Series(e.get_possiable_zooms())\n",
    "\n",
    "zooms.plot(kind='bar')"
   ]
  },
  {
   "cell_type": "code",
   "execution_count": null,
   "metadata": {},
   "outputs": [],
   "source": [
    "e.plot_connection_garph()"
   ]
  }
 ],
 "metadata": {
  "kernelspec": {
   "display_name": "Python 3",
   "language": "python",
   "name": "python3"
  },
  "language_info": {
   "codemirror_mode": {
    "name": "ipython",
    "version": 3
   },
   "file_extension": ".py",
   "mimetype": "text/x-python",
   "name": "python",
   "nbconvert_exporter": "python",
   "pygments_lexer": "ipython3",
   "version": "3.6.2"
  }
 },
 "nbformat": 4,
 "nbformat_minor": 2
}
