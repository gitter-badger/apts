{
 "cells": [
  {
   "cell_type": "code",
   "execution_count": 1,
   "metadata": {},
   "outputs": [
    {
     "name": "stdout",
     "output_type": "stream",
     "text": [
      "['SW150/750, f=7500', 'SW, f=25']\n",
      "['SW150/750, f=7500', 'SW, f=10']\n",
      "['SW150/750, f=7500', 'SW, x2', 'SW, f=25']\n",
      "['SW150/750, f=7500', 'SW, x2', 'SW, f=10']\n"
     ]
    }
   ],
   "source": [
    "import apts.equipment as eq\n",
    "e = eq.Equipment()\n",
    "\n",
    "t1 = eq.Telescope(7500, \"SW150/750\")\n",
    "e.register_telescope(t1)\n",
    "e.register_ocular(eq.Ocular(25, \"SW\"))\n",
    "e.register_ocular(eq.Ocular(10, \"SW\"))\n",
    "e.register_barlow(eq.Barlow(2, \"SW\"), t1)\n",
    "\n",
    "e.get_possiable_views()"
   ]
  },
  {
   "cell_type": "code",
   "execution_count": 2,
   "metadata": {},
   "outputs": [
    {
     "data": {
      "image/svg+xml": [
       "<?xml version=\"1.0\" encoding=\"UTF-8\"?>\n",
       "<svg xmlns=\"http://www.w3.org/2000/svg\" xmlns:xlink=\"http://www.w3.org/1999/xlink\" width=\"600pt\" height=\"600pt\" viewBox=\"0 0 600 600\" version=\"1.1\">\n",
       "<g id=\"surface2\">\n",
       "<rect x=\"0\" y=\"0\" width=\"600\" height=\"600\" style=\"fill:rgb(100%,100%,100%);fill-opacity:1;stroke:none;\"/>\n",
       "<path style=\"fill:none;stroke-width:1;stroke-linecap:butt;stroke-linejoin:miter;stroke:rgb(26.666667%,26.666667%,26.666667%);stroke-opacity:1;stroke-miterlimit:10;\" d=\"M 20 369.761719 L 154.761719 218.199219 \"/>\n",
       "<path style=\" stroke:none;fill-rule:nonzero;fill:rgb(26.666667%,26.666667%,26.666667%);fill-opacity:1;\" d=\"M 164.242188 207.539062 L 158.226562 221.28125 L 151.296875 215.121094 L 164.242188 207.539062 \"/>\n",
       "<path style=\"fill:none;stroke-width:1;stroke-linecap:butt;stroke-linejoin:miter;stroke:rgb(26.666667%,26.666667%,26.666667%);stroke-opacity:1;stroke-miterlimit:10;\" d=\"M 170.886719 200.066406 L 347.871094 266.726562 \"/>\n",
       "<path style=\" stroke:none;fill-rule:nonzero;fill:rgb(26.666667%,26.666667%,26.666667%);fill-opacity:1;\" d=\"M 361.222656 271.753906 L 346.238281 271.0625 L 349.503906 262.386719 L 361.222656 271.753906 \"/>\n",
       "<path style=\"fill:none;stroke-width:1;stroke-linecap:butt;stroke-linejoin:miter;stroke:rgb(26.666667%,26.666667%,26.666667%);stroke-opacity:1;stroke-miterlimit:10;\" d=\"M 391.175781 580 L 549.285156 575.480469 \"/>\n",
       "<path style=\" stroke:none;fill-rule:nonzero;fill:rgb(26.666667%,26.666667%,26.666667%);fill-opacity:1;\" d=\"M 563.546875 575.070312 L 549.417969 580.113281 L 549.152344 570.84375 L 563.546875 575.070312 \"/>\n",
       "<path style=\"fill:none;stroke-width:1;stroke-linecap:butt;stroke-linejoin:miter;stroke:rgb(26.666667%,26.666667%,26.666667%);stroke-opacity:1;stroke-miterlimit:10;\" d=\"M 370.578125 275.277344 L 389.542969 555.789062 \"/>\n",
       "<path style=\" stroke:none;fill-rule:nonzero;fill:rgb(26.666667%,26.666667%,26.666667%);fill-opacity:1;\" d=\"M 390.503906 570.023438 L 384.917969 556.101562 L 394.164062 555.476562 L 390.503906 570.023438 \"/>\n",
       "<path style=\"fill:none;stroke-width:1;stroke-linecap:butt;stroke-linejoin:miter;stroke:rgb(26.666667%,26.666667%,26.666667%);stroke-opacity:1;stroke-miterlimit:10;\" d=\"M 580 314.472656 L 574.144531 550.527344 \"/>\n",
       "<path style=\" stroke:none;fill-rule:nonzero;fill:rgb(26.666667%,26.666667%,26.666667%);fill-opacity:1;\" d=\"M 573.789062 564.789062 L 569.507812 550.410156 L 578.777344 550.640625 L 573.789062 564.789062 \"/>\n",
       "<path style=\"fill:none;stroke-width:1;stroke-linecap:butt;stroke-linejoin:miter;stroke:rgb(26.666667%,26.666667%,26.666667%);stroke-opacity:1;stroke-miterlimit:10;\" d=\"M 370.578125 275.277344 L 556.148438 310.007812 \"/>\n",
       "<path style=\" stroke:none;fill-rule:nonzero;fill:rgb(26.666667%,26.666667%,26.666667%);fill-opacity:1;\" d=\"M 570.171875 312.632812 L 555.296875 314.5625 L 557 305.453125 L 570.171875 312.632812 \"/>\n",
       "<path style=\"fill:none;stroke-width:1;stroke-linecap:butt;stroke-linejoin:miter;stroke:rgb(26.666667%,26.666667%,26.666667%);stroke-opacity:1;stroke-miterlimit:10;\" d=\"M 170.886719 200.066406 L 284.507812 39.796875 \"/>\n",
       "<path style=\" stroke:none;fill-rule:nonzero;fill:rgb(26.666667%,26.666667%,26.666667%);fill-opacity:1;\" d=\"M 292.757812 28.15625 L 288.289062 42.476562 L 280.722656 37.113281 L 292.757812 28.15625 \"/>\n",
       "<path style=\"fill:none;stroke-width:1;stroke-linecap:butt;stroke-linejoin:miter;stroke:rgb(26.666667%,26.666667%,26.666667%);stroke-opacity:1;stroke-miterlimit:10;\" d=\"M 298.539062 20 L 363.988281 251.925781 \"/>\n",
       "<path style=\" stroke:none;fill-rule:nonzero;fill:rgb(26.666667%,26.666667%,26.666667%);fill-opacity:1;\" d=\"M 367.863281 265.652344 L 359.527344 253.183594 L 368.449219 250.664062 L 367.863281 265.652344 \"/>\n",
       "<path style=\"fill-rule:nonzero;fill:rgb(100%,0%,0%);fill-opacity:1;stroke-width:1;stroke-linecap:butt;stroke-linejoin:miter;stroke:rgb(0%,0%,0%);stroke-opacity:1;stroke-miterlimit:10;\" d=\"M 30 369.761719 C 30 375.285156 25.523438 379.761719 20 379.761719 C 14.476562 379.761719 10 375.285156 10 369.761719 C 10 364.242188 14.476562 359.761719 20 359.761719 C 25.523438 359.761719 30 364.242188 30 369.761719 \"/>\n",
       "<path style=\"fill-rule:nonzero;fill:rgb(100%,0%,0%);fill-opacity:1;stroke-width:1;stroke-linecap:butt;stroke-linejoin:miter;stroke:rgb(0%,0%,0%);stroke-opacity:1;stroke-miterlimit:10;\" d=\"M 583.542969 574.785156 C 583.542969 580.308594 579.0625 584.785156 573.542969 584.785156 C 568.019531 584.785156 563.542969 580.308594 563.542969 574.785156 C 563.542969 569.261719 568.019531 564.785156 573.542969 564.785156 C 579.0625 564.785156 583.542969 569.261719 583.542969 574.785156 \"/>\n",
       "<path style=\"fill-rule:nonzero;fill:rgb(100%,0%,0%);fill-opacity:1;stroke-width:1;stroke-linecap:butt;stroke-linejoin:miter;stroke:rgb(0%,0%,0%);stroke-opacity:1;stroke-miterlimit:10;\" d=\"M 180.886719 200.066406 C 180.886719 205.589844 176.40625 210.066406 170.886719 210.066406 C 165.363281 210.066406 160.886719 205.589844 160.886719 200.066406 C 160.886719 194.542969 165.363281 190.066406 170.886719 190.066406 C 176.40625 190.066406 180.886719 194.542969 180.886719 200.066406 \"/>\n",
       "<path style=\"fill-rule:nonzero;fill:rgb(100%,0%,0%);fill-opacity:1;stroke-width:1;stroke-linecap:butt;stroke-linejoin:miter;stroke:rgb(0%,0%,0%);stroke-opacity:1;stroke-miterlimit:10;\" d=\"M 380.578125 275.277344 C 380.578125 280.800781 376.101562 285.277344 370.578125 285.277344 C 365.058594 285.277344 360.578125 280.800781 360.578125 275.277344 C 360.578125 269.753906 365.058594 265.277344 370.578125 265.277344 C 376.101562 265.277344 380.578125 269.753906 380.578125 275.277344 \"/>\n",
       "<path style=\"fill-rule:nonzero;fill:rgb(100%,0%,0%);fill-opacity:1;stroke-width:1;stroke-linecap:butt;stroke-linejoin:miter;stroke:rgb(0%,0%,0%);stroke-opacity:1;stroke-miterlimit:10;\" d=\"M 401.175781 580 C 401.175781 585.523438 396.699219 590 391.175781 590 C 385.65625 590 381.175781 585.523438 381.175781 580 C 381.175781 574.476562 385.65625 570 391.175781 570 C 396.699219 570 401.175781 574.476562 401.175781 580 \"/>\n",
       "<path style=\"fill-rule:nonzero;fill:rgb(100%,0%,0%);fill-opacity:1;stroke-width:1;stroke-linecap:butt;stroke-linejoin:miter;stroke:rgb(0%,0%,0%);stroke-opacity:1;stroke-miterlimit:10;\" d=\"M 590 314.472656 C 590 319.996094 585.523438 324.472656 580 324.472656 C 574.476562 324.472656 570 319.996094 570 314.472656 C 570 308.949219 574.476562 304.472656 580 304.472656 C 585.523438 304.472656 590 308.949219 590 314.472656 \"/>\n",
       "<path style=\"fill-rule:nonzero;fill:rgb(100%,0%,0%);fill-opacity:1;stroke-width:1;stroke-linecap:butt;stroke-linejoin:miter;stroke:rgb(0%,0%,0%);stroke-opacity:1;stroke-miterlimit:10;\" d=\"M 308.539062 20 C 308.539062 25.523438 304.0625 30 298.539062 30 C 293.015625 30 288.539062 25.523438 288.539062 20 C 288.539062 14.476562 293.015625 10 298.539062 10 C 304.0625 10 308.539062 14.476562 308.539062 20 \"/>\n",
       "</g>\n",
       "</svg>\n"
      ],
      "text/plain": [
       "<igraph.drawing.Plot at 0x7f22dc46cc50>"
      ]
     },
     "execution_count": 2,
     "metadata": {},
     "output_type": "execute_result"
    }
   ],
   "source": [
    "e.plot_connection_garph()"
   ]
  },
  {
   "cell_type": "code",
   "execution_count": 2,
   "metadata": {},
   "outputs": [
    {
     "data": {
      "text/plain": [
       "{2: <apts.models.optical.Telescope at 0x7f30358ad748>,\n",
       " 4: <apts.models.optical.Ocular at 0x7f302c5aca58>,\n",
       " 5: <apts.models.optical.Ocular at 0x7f302c5ac9e8>,\n",
       " 6: <apts.models.optical.Barlow at 0x7f302c5acb00>}"
      ]
     },
     "execution_count": 2,
     "metadata": {},
     "output_type": "execute_result"
    }
   ],
   "source": [
    "e.get_all()"
   ]
  }
 ],
 "metadata": {
  "kernelspec": {
   "display_name": "Python 3",
   "language": "python",
   "name": "python3"
  },
  "language_info": {
   "codemirror_mode": {
    "name": "ipython",
    "version": 3
   },
   "file_extension": ".py",
   "mimetype": "text/x-python",
   "name": "python",
   "nbconvert_exporter": "python",
   "pygments_lexer": "ipython3",
   "version": "3.6.2"
  }
 },
 "nbformat": 4,
 "nbformat_minor": 2
}
